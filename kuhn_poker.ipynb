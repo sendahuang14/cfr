{
 "cells": [
  {
   "cell_type": "code",
   "execution_count": 66,
   "id": "3a54b354",
   "metadata": {},
   "outputs": [],
   "source": [
    "import random\n",
    "import numpy as np"
   ]
  },
  {
   "cell_type": "code",
   "execution_count": 161,
   "id": "2ad0c152",
   "metadata": {},
   "outputs": [],
   "source": [
    "# Kuhn Trainer\n",
    "class KuhnTrainer():\n",
    "    def __init__(self):\n",
    "        # Kuhn poker definitions\n",
    "        self.num = 2\n",
    "        self.node_map = {}\n",
    "    \n",
    "    # information set node class definition\n",
    "    class Node:\n",
    "        def __init__(self):\n",
    "            # Kuhn node definitions\n",
    "            self.infoset = \"\"\n",
    "            self.regret_sum = [0, 0]\n",
    "            self.strategy = [0, 0]                # 総計は1\n",
    "            self.strategy_sum = [0, 0]\n",
    "            self.utility_sum = 0  # 追加\n",
    "\n",
    "        # get current information set mixed strategy through regret-matching\n",
    "        def get_strategy(self, realization_weight):\n",
    "            normalizing_sum = 0\n",
    "            for a in range(2):\n",
    "                self.strategy[a] = max(self.regret_sum[a], 0)\n",
    "                normalizing_sum += self.strategy[a]\n",
    "            for a in range(2):\n",
    "                if (normalizing_sum > 0):\n",
    "                    self.strategy[a] /= normalizing_sum\n",
    "                else:\n",
    "                    self.strategy[a] = 1.0 / 2\n",
    "                self.strategy_sum[a] += realization_weight * self.strategy[a]\n",
    "            return self.strategy\n",
    "\n",
    "        # get average information set mixed strategy across all training iterations\n",
    "        def get_average_strategy(self):\n",
    "            avg_strategy = [0, 0]\n",
    "            normalizing_sum = sum(self.strategy_sum)\n",
    "            for a in range(2):\n",
    "                if normalizing_sum > 0:\n",
    "                    avg_strategy[a] = self.strategy_sum[a] / normalizing_sum\n",
    "                else:\n",
    "                    avg_strategy[a] = 1.0 / 2\n",
    "            return avg_strategy    # 総計は1\n",
    "\n",
    "        # get information set string representation\n",
    "        def to_string(self):\n",
    "            a = self.get_average_strategy()\n",
    "            r = self.regret_sum\n",
    "            u = self.utility_sum\n",
    "            data.append([a[0], a[1]])\n",
    "            return f'{a[0]:.3f}, {a[1]:.3f}, {r[0]:.3f}, {r[1]:.3f}, {u:.3f}'\n",
    "        \n",
    "    # train kuhn poker\n",
    "    def train(self, iterations):\n",
    "        cards = [1, 2, 3]\n",
    "        util = 0\n",
    "        for i in range(iterations):\n",
    "            random.shuffle(cards)  # shuffle cards\n",
    "            self.t = i\n",
    "            util += self.cfr(cards, \"\", 1, 1)\n",
    "        print(f\"Average game value: {(util / iterations):.3f}\")\n",
    "        i = 0\n",
    "        for k in sorted(self.node_map.keys()):\n",
    "            v = self.node_map[k]\n",
    "            v.to_string()\n",
    "#             print(f'{k:5}', v.to_string())\n",
    "\n",
    "    # counterfactual regret minimization iteration\n",
    "    def cfr(self, cards, history, p0, p1):\n",
    "        plays = len(history)\n",
    "        player = plays % 2\n",
    "        opponent = 1 - player\n",
    "        infoset = str(cards[player]) + history \n",
    "        \n",
    "        # return pay-off for terminal states\n",
    "        if plays > 1:\n",
    "            terminal_pass = history.endswith(\"p\")\n",
    "            double_bet = history.endswith(\"bb\")\n",
    "            is_player_card_higher = cards[player] > cards[opponent]\n",
    "            if terminal_pass:\n",
    "                if history == \"pp\":\n",
    "                    return 1 if is_player_card_higher else -1\n",
    "                else:\n",
    "                    return 1\n",
    "            elif double_bet:\n",
    "                return 2 if is_player_card_higher else -2\n",
    "\n",
    "        # get information set node or create it if nonexistant\n",
    "        node = self.node_map.get(infoset)\n",
    "        if node is None:\n",
    "            node = self.Node()\n",
    "            node.infoset = infoset\n",
    "            self.node_map[infoset] = node\n",
    "\n",
    "        # for each action, recursively call cfr with additional history and probability\n",
    "        strategy = node.get_strategy(p0 if player == 0 else p1)\n",
    "        util = [0, 0]\n",
    "        node_util = 0\n",
    "        for a in range(2):\n",
    "            next_history = history + (\"p\" if a == 0 else \"b\")\n",
    "            q0 = p0 * strategy[a] if player == 0 else p0\n",
    "            q1 = p1 * strategy[a] if player == 1 else p1\n",
    "            util[a] = -self.cfr(cards, next_history, q0, q1)\n",
    "            node_util += strategy[a] * util[a]\n",
    "\n",
    "        # for each action, compute and accumulate counterfactual regret\n",
    "        for a in range(2):\n",
    "            regret = util[a] - node_util\n",
    "            node.regret_sum[a] += (p1 if player == 0 else p0) * regret\n",
    "        node.utility_sum+=node_util * p0 * p1\n",
    "        \n",
    "        return node_util\n",
    "\n",
    "    # Kuhn Trainer main method\n",
    "    def main(self, iterations):\n",
    "        KuhnTrainer().train(iterations)"
   ]
  },
  {
   "cell_type": "code",
   "execution_count": 47,
   "id": "f7dbc551",
   "metadata": {},
   "outputs": [],
   "source": [
    "alpha = data[0][1]\n",
    "nash = [[1-alpha, alpha], [1, 0], [2.0/3, 1.0/3], [1, 0],\n",
    "       [1, 0], [2.0/3, 1.0/3], [1, 0], [2.0/3-alpha, alpha+1.0/3],\n",
    "       [1-3*alpha, 3*alpha], [0, 1], [0, 1], [0, 1]]"
   ]
  },
  {
   "cell_type": "code",
   "execution_count": 184,
   "id": "3bc69088",
   "metadata": {},
   "outputs": [],
   "source": [
    "list10 = []"
   ]
  },
  {
   "cell_type": "code",
   "execution_count": 185,
   "id": "04fa5ef5",
   "metadata": {
    "scrolled": false
   },
   "outputs": [
    {
     "name": "stdout",
     "output_type": "stream",
     "text": [
      "Average game value: -0.055\n",
      "Average game value: -0.059\n",
      "Average game value: -0.052\n",
      "Average game value: -0.060\n",
      "Average game value: -0.061\n",
      "Average game value: -0.052\n",
      "Average game value: -0.058\n",
      "Average game value: -0.060\n",
      "Average game value: -0.055\n",
      "Average game value: -0.060\n",
      "Average game value: -0.054\n",
      "Average game value: -0.058\n",
      "Average game value: -0.053\n",
      "Average game value: -0.059\n",
      "Average game value: -0.061\n",
      "Average game value: -0.054\n",
      "Average game value: -0.056\n",
      "Average game value: -0.051\n",
      "Average game value: -0.051\n",
      "Average game value: -0.053\n",
      "Average game value: -0.061\n",
      "Average game value: -0.061\n",
      "Average game value: -0.046\n",
      "Average game value: -0.060\n",
      "Average game value: -0.055\n",
      "Average game value: -0.053\n",
      "Average game value: -0.057\n",
      "Average game value: -0.055\n",
      "Average game value: -0.051\n",
      "Average game value: -0.057\n"
     ]
    }
   ],
   "source": [
    "for _ in range(30):\n",
    "    data = []\n",
    "    hello = KuhnTrainer()\n",
    "    hello.main(100000)\n",
    "\n",
    "    dif = 0\n",
    "\n",
    "    for i in range(len(data)):\n",
    "        for j in range(2):\n",
    "            dif += (data[i][j] - nash[i][j]) ** 2\n",
    "    list10.append(dif)"
   ]
  },
  {
   "cell_type": "code",
   "execution_count": 186,
   "id": "c09a9086",
   "metadata": {
    "scrolled": true
   },
   "outputs": [
    {
     "name": "stdout",
     "output_type": "stream",
     "text": [
      "len(list10)=30, np.mean(list10)=0.08837097497153715\n"
     ]
    }
   ],
   "source": [
    "print(f'{len(list10)=}, {np.mean(list10)=}')"
   ]
  },
  {
   "cell_type": "code",
   "execution_count": 173,
   "id": "ccdc7ed0",
   "metadata": {
    "scrolled": true
   },
   "outputs": [
    {
     "data": {
      "text/plain": [
       "(12, 12)"
      ]
     },
     "execution_count": 173,
     "metadata": {},
     "output_type": "execute_result"
    }
   ],
   "source": [
    "len(data), len(nash)"
   ]
  },
  {
   "cell_type": "code",
   "execution_count": 174,
   "id": "75d54af0",
   "metadata": {
    "scrolled": true
   },
   "outputs": [
    {
     "name": "stdout",
     "output_type": "stream",
     "text": [
      "data=[[0.16666666666666666, 0.8333333333333334], [0.5, 0.5], [0.5, 0.5], [0.625, 0.375], [0.5833333333333334, 0.4166666666666667], [0.27777777777777773, 0.7222222222222222], [0.08333333333333333, 0.9166666666666666], [0.7380952380952381, 0.2619047619047619], [0.16666666666666666, 0.8333333333333334], [0.16666666666666666, 0.8333333333333334], [0.3333333333333333, 0.6666666666666666], [0.5, 0.5]], nash=[[0.7991363804953773, 0.20086361950462267], [1, 0], [0.6666666666666666, 0.3333333333333333], [1, 0], [1, 0], [0.6666666666666666, 0.3333333333333333], [1, 0], [0.46580304716204396, 0.534196952837956], [0.39740914148613204, 0.602590858513868], [0, 1], [0, 1], [0, 1]]\n"
     ]
    }
   ],
   "source": [
    "print(f'{data=}, {nash=}')"
   ]
  },
  {
   "cell_type": "code",
   "execution_count": 137,
   "id": "0e40f994",
   "metadata": {},
   "outputs": [],
   "source": [
    "dif = 0\n",
    "\n",
    "for i in range(len(data)):\n",
    "    for j in range(2):\n",
    "        dif += (data[i][j] - nash[i][j]) ** 2\n",
    "list10.append(dif)"
   ]
  },
  {
   "cell_type": "code",
   "execution_count": 135,
   "id": "f3dadaf4",
   "metadata": {},
   "outputs": [],
   "source": [
    "alpha = 1.0/3\n",
    "# ナッシュ均衡解\n",
    "equilibrium = {\n",
    "        # player 0\n",
    "        '1': [1-alpha, alpha], '1b': [1, 0], '1p': [2/3, 1/3], '1pb': [1, 0],\n",
    "    '2': [1, 0], '2b': [2/3, 1/3], '2p': [1, 0],  '2pb': [2/3-alpha, alpha+1/3],\n",
    "    '3': [1-3*alpha, 3*alpha], '3b': [0, 1],'3p': [0,1], '3pb': [0, 1],\n",
    "        \n",
    "        # player 1\n",
    "        \n",
    "         \n",
    "    }"
   ]
  },
  {
   "cell_type": "code",
   "execution_count": null,
   "id": "5d5f4358",
   "metadata": {},
   "outputs": [],
   "source": [
    "# Kuhn poker definitions\n",
    "Pass = 0\n",
    "Bet = 1\n",
    "num = 2\n",
    "node_map = {}"
   ]
  },
  {
   "cell_type": "code",
   "execution_count": null,
   "id": "4bf3a6c8",
   "metadata": {},
   "outputs": [],
   "source": [
    "# Kuhn node definitions\n",
    "regret_sum = [0, 0]\n",
    "strategy = [0, 0]                # 総計は1\n",
    "strategy_sum = [0, 0]"
   ]
  },
  {
   "cell_type": "code",
   "execution_count": null,
   "id": "b06b8d1a",
   "metadata": {},
   "outputs": [],
   "source": [
    "# get current information set mixed strategy through regret-matching\n",
    "def get_strategy(realization_weight):\n",
    "    normalizing_sum = 0\n",
    "    for a in range(2):\n",
    "        strategy[a] = regret_sum[a] if regret_sum[a] > 0 else 0\n",
    "        normalizing_sum += strategy[a]\n",
    "    for a in range(2):\n",
    "        if (normalizing_sum > 0):\n",
    "            strategy[a] /= normalizing_sum\n",
    "        else:\n",
    "            strategy[a] = 1.0 / 2\n",
    "        strategy_sum[a] += realization_weight * strategy[a]\n",
    "    return strategy"
   ]
  },
  {
   "cell_type": "code",
   "execution_count": null,
   "id": "ca77dda2",
   "metadata": {},
   "outputs": [],
   "source": [
    "# get average information set mixed strategy across all training iterations\n",
    "def get_average_strategy():\n",
    "    avg_strategy = [0, 0]\n",
    "    normalizing_sum = sum(strategy_sum)\n",
    "    for a in range(2):\n",
    "        if normalizing_sum > 0:\n",
    "            avg_strategy[a] = strategy_sum[a] / normalizing_sum\n",
    "        else:\n",
    "            avg_strategy[a] = 1.0 / 2\n",
    "    return avg_strategy"
   ]
  },
  {
   "cell_type": "code",
   "execution_count": null,
   "id": "0c283407",
   "metadata": {},
   "outputs": [],
   "source": [
    "# information set node class definition\n",
    "class Node():\n",
    "    def __init__():\n",
    "        # Kuhn node definitions\n",
    "        self.regret_sum = [0, 0]\n",
    "        self.strategy = [0, 0]                # 総計は1\n",
    "        self.strategy_sum = [0, 0]\n",
    "    \n",
    "    # get current information set mixed strategy through regret-matching\n",
    "    def get_strategy(realization_weight):\n",
    "        normalizing_sum = 0\n",
    "        for a in range(2):\n",
    "            self.strategy[a] = self.regret_sum[a] if self.regret_sum[a] > 0 else 0\n",
    "            normalizing_sum += self.strategy[a]\n",
    "        for a in range(2):\n",
    "            if (normalizing_sum > 0):\n",
    "                self.strategy[a] /= normalizing_sum\n",
    "            else:\n",
    "                self.strategy[a] = 1.0 / 2\n",
    "            self.strategy_sum[a] += realization_weight * self.strategy[a]\n",
    "        return self.strategy\n",
    "\n",
    "    # get average information set mixed strategy across all training iterations\n",
    "    def get_average_strategy():\n",
    "        avg_strategy = [0, 0]\n",
    "        normalizing_sum = sum(self.strategy_sum)\n",
    "        for a in range(2):\n",
    "            if normalizing_sum > 0:\n",
    "                avg_strategy[a] = self.strategy_sum[a] / normalizing_sum\n",
    "            else:\n",
    "                avg_strategy[a] = 1.0 / 2\n",
    "        return avg_strategy\n",
    "    \n",
    "    # get information set string representation\n",
    "    def to_string():\n",
    "        return 0"
   ]
  },
  {
   "cell_type": "code",
   "execution_count": null,
   "id": "36ccfba3",
   "metadata": {},
   "outputs": [],
   "source": [
    "# train kuhn poker\n",
    "def train(iterations):\n",
    "    cards = [1, 2, 3]\n",
    "    util = 0\n",
    "    for i in range(iterations):\n",
    "        # shuffle cards\n",
    "        list_range = range(0, len(cards))\n",
    "        for j in list_range:\n",
    "            j = randint(list_range[0], list_range[-1])\n",
    "            cards[i], cards[j] = cards[j], cards[i]\n",
    "            \n",
    "        util += cfr(cards, \"\", 1, 1)\n",
    "    print(\"Average game value: \" + str(util / iterations))\n",
    "    for v in node_map.values():\n",
    "        print(n)"
   ]
  },
  {
   "cell_type": "code",
   "execution_count": null,
   "id": "3dba9deb",
   "metadata": {},
   "outputs": [],
   "source": [
    "# counterfactual regret minimization iteration\n",
    "def cfr(cards, history, p0, p1):\n",
    "    plays = len(history)\n",
    "    player = plays % 2\n",
    "    opponent = 1 - player\n",
    "    \n",
    "    # return pay-off for terminal states\n",
    "    if plays > 1:\n",
    "        terminal_pass = history[plays-1] == \"p\"\n",
    "        double_bet = history[plays-2:2] == \"bb\"\n",
    "        is_player_card_higher = cards[player] > cards[opponent]\n",
    "        if terminal_pass:\n",
    "            if history == \"pp\":\n",
    "                return 1 if is_player_card_higher else -1\n",
    "            else:\n",
    "                return 1\n",
    "        elif double_bet:\n",
    "            return 2 if is_player_card_higher else -2\n",
    "        \n",
    "    infoset = cards[player] + history\n",
    "    \n",
    "    # get information set node or create it if nonexistant\n",
    "    node = node_map[infoset]\n",
    "    if node == null:\n",
    "        node = Node()\n",
    "        node.infoset = infoset\n",
    "        node_map[infoset] = node\n",
    "    \n",
    "    # for each action, recursively call cfr with additional history and probability\n",
    "    strategy = node.get_strategy(p0 if player == 0 else p1)\n",
    "    util = [0, 0]\n",
    "    node_util = 0\n",
    "    for a in range(2):\n",
    "        next_history = history + (\"p\" if a == 0 else \"b\")\n",
    "        util[a] = -cfr(cards, next_history, p0*strategy[a], p1) if player == 0 else -cfr(cards, next_history, p0, p1*strategy[a])\n",
    "        node_util += strategy[a] * util[a]\n",
    "        \n",
    "    # for each action, compute and accumulate counterfactual regret\n",
    "    for a in range(2):\n",
    "        regret = util[a] - node_util\n",
    "        node.regret_sum[a] += (p1 if player == 0 else p0) * regret\n",
    "    return node_util"
   ]
  },
  {
   "cell_type": "code",
   "execution_count": null,
   "id": "c5d26832",
   "metadata": {},
   "outputs": [],
   "source": [
    "# Kuhn Trainer main method\n",
    "def main():\n",
    "    iterations = 10\n",
    "    KuhnTrainer().train(iterations)"
   ]
  },
  {
   "cell_type": "code",
   "execution_count": null,
   "id": "3cc030e9",
   "metadata": {},
   "outputs": [],
   "source": [
    "cards = [1, 2, 3]\n",
    "random.shuffle(cards)\n",
    "cards"
   ]
  },
  {
   "cell_type": "code",
   "execution_count": null,
   "id": "5fbdb276",
   "metadata": {},
   "outputs": [],
   "source": [
    "dic = {}\n",
    "dic[\"orange\"] = 1\n",
    "dic[\"orange\"] "
   ]
  },
  {
   "cell_type": "code",
   "execution_count": null,
   "id": "e53b04f7",
   "metadata": {},
   "outputs": [],
   "source": [
    "dic.get(\"apple\") is None"
   ]
  },
  {
   "cell_type": "code",
   "execution_count": null,
   "id": "2e8f3484",
   "metadata": {},
   "outputs": [],
   "source": [
    "dic.get(\"orange\")"
   ]
  },
  {
   "cell_type": "code",
   "execution_count": null,
   "id": "45e103f7",
   "metadata": {},
   "outputs": [],
   "source": [
    "h = \"pbbbbbbb\"\n",
    "h[-2:len(h)]"
   ]
  },
  {
   "cell_type": "code",
   "execution_count": null,
   "id": "90991167",
   "metadata": {},
   "outputs": [],
   "source": [
    "h.endswith(\"bo\")"
   ]
  },
  {
   "cell_type": "code",
   "execution_count": null,
   "id": "c630d725",
   "metadata": {},
   "outputs": [],
   "source": [
    "h1 = \"\"\n",
    "h1.endswith(\"b\")"
   ]
  },
  {
   "cell_type": "code",
   "execution_count": null,
   "id": "fafbe2a5",
   "metadata": {},
   "outputs": [],
   "source": []
  }
 ],
 "metadata": {
  "kernelspec": {
   "display_name": "Python 3 (ipykernel)",
   "language": "python",
   "name": "python3"
  },
  "language_info": {
   "codemirror_mode": {
    "name": "ipython",
    "version": 3
   },
   "file_extension": ".py",
   "mimetype": "text/x-python",
   "name": "python",
   "nbconvert_exporter": "python",
   "pygments_lexer": "ipython3",
   "version": "3.9.7"
  }
 },
 "nbformat": 4,
 "nbformat_minor": 5
}
